{
  "nbformat": 4,
  "nbformat_minor": 0,
  "metadata": {
    "colab": {
      "name": "RouletteGame.ipynb",
      "provenance": [],
      "collapsed_sections": [],
      "history_visible": true
    },
    "kernelspec": {
      "name": "python3",
      "display_name": "Python 3"
    },
    "language_info": {
      "name": "python"
    }
  },
  "cells": [
    {
      "cell_type": "code",
      "execution_count": 1,
      "metadata": {
        "colab": {
          "base_uri": "https://localhost:8080/"
        },
        "id": "gsGzrhmw5WgD",
        "outputId": "a603eddf-bd4e-4d24-cf5c-4df72734702c"
      },
      "outputs": [
        {
          "output_type": "stream",
          "name": "stdout",
          "text": [
            "\t\t\t\tWELCOME TO THE ROULETTE GAME\n",
            "How much money do you have ?400\n",
            "_____________________________________________________\n",
            "You have 400 Rupees.Good Luck!\n",
            "On which number you want to bet on ?20\n",
            "How much do you want to bet on this number ?100\n",
            "\n",
            "The number on the roullete is 42\n",
            "Sorry, but you've lost.Better luck next time!\n",
            "_____________________________________________________\n",
            "_____________________________________________________\n",
            "You have 300 Rupees.Good Luck!\n",
            "On which number you want to bet on ?6\n",
            "How much do you want to bet on this number ?100\n",
            "\n",
            "The number on the roullete is 29\n",
            "Sorry, but you've lost.Better luck next time!\n",
            "_____________________________________________________\n",
            "_____________________________________________________\n",
            "You have 200 Rupees.Good Luck!\n",
            "On which number you want to bet on ?8\n",
            "How much do you want to bet on this number ?100\n",
            "\n",
            "The number on the roullete is 35\n",
            "Sorry, but you've lost.Better luck next time!\n",
            "_____________________________________________________\n",
            "_____________________________________________________\n",
            "You have 100 Rupees.Good Luck!\n",
            "On which number you want to bet on ?24\n",
            "How much do you want to bet on this number ?100\n",
            "\n",
            "The number on the roullete is 21\n",
            "Sorry, but you've lost.Better luck next time!\n",
            "_____________________________________________________\n",
            "You do not have enough money to continue the game.Thank you for your time!\n",
            "THE GAME ENDS.\n"
          ]
        }
      ],
      "source": [
        "import random\n",
        "\n",
        "\n",
        "print(\"\\t\\t\\t\\tWELCOME TO THE ROULETTE GAME\")\n",
        "total=int(input(\"How much money do you have ?\"))  #user enters the total money he/she has\n",
        "\n",
        "while(total>0):\n",
        "    print(\"_____________________________________________________\")\n",
        "    print(\"You have \"+str(total)+\" Rupees.Good Luck!\")          #display the money they have now\n",
        "    \n",
        "    betno=input(\"On which number you want to bet on ?\")           \n",
        "    betamt=int(input(\"How much do you want to bet on this number ?\"))  \n",
        "    \n",
        "    r=random.randint(0,49)       #random no. is generated and stored in r\n",
        "    print(\"\\nThe number on the roullete is \"+ str(r))\n",
        "    if(r == betno):              #if roullete no. and bet no. is same, the bet amount increases by x50\n",
        "        print(\"Congratulations, you have won \"+str(betamt*50)+\" Rupees.\")\n",
        "        total=(total)+int(betamt*50)\n",
        "    else:\n",
        "        print(\"Sorry, but you've lost.Better luck next time!\") \n",
        "        total=int(total)-int(betamt)          #bet amount is deducted\n",
        "        print(\"_____________________________________________________\")\n",
        "    \n",
        "print(\"You do not have enough money to continue the game.Thank you for your time!\")\n",
        "        \n",
        "print(\"THE GAME ENDS.\")\n",
        "    \n"
      ]
    }
  ]
}